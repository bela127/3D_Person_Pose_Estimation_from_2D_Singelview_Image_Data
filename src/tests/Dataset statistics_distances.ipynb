{
 "cells": [
  {
   "cell_type": "code",
   "execution_count": 1,
   "metadata": {},
   "outputs": [
    {
     "name": "stdout",
     "output_type": "stream",
     "text": [
      "test  train  val\r\n"
     ]
    }
   ],
   "source": [
    "!ls /dataset/jta/images_jpg"
   ]
  },
  {
   "cell_type": "code",
   "execution_count": 2,
   "metadata": {
    "scrolled": true
   },
   "outputs": [],
   "source": [
    "import sys\n",
    "import os\n",
    "\n",
    "import tensorflow as tf\n",
    "import numpy as np\n",
    "import pathlib\n",
    "import matplotlib.pyplot as plt\n",
    "\n"
   ]
  },
  {
   "cell_type": "code",
   "execution_count": 3,
   "metadata": {},
   "outputs": [
    {
     "name": "stdout",
     "output_type": "stream",
     "text": [
      "b'/dataset/jta/images_jpg/train/seq_137/415.jpg'\n",
      "b'/dataset/jta/images_jpg/train/seq_221/501.jpg'\n",
      "b'/dataset/jta/images_jpg/train/seq_129/618.jpg'\n",
      "b'/dataset/jta/images_jpg/train/seq_219/474.jpg'\n",
      "b'/dataset/jta/images_jpg/train/seq_11/309.jpg'\n"
     ]
    }
   ],
   "source": [
    "image_path = pathlib.Path(\"/dataset/jta/images_jpg\")\n",
    "ANNO_PATH = tf.constant(\"/dataset/jta/new_image_annotations\")\n",
    "\n",
    "image_ds = tf.data.Dataset.list_files(str(image_path/'train/*/*')).shuffle(10000)\n",
    "\n",
    "for f in image_ds.take(5):\n",
    "    print(f.numpy())\n"
   ]
  },
  {
   "cell_type": "code",
   "execution_count": 4,
   "metadata": {
    "scrolled": false
   },
   "outputs": [],
   "source": [
    "def to_cam_space(joint):\n",
    "    cam_transform = tf.constant([[1158,0,960],[0,1158,540],[0,0,1]], dtype=tf.float32)\n",
    "    joint_homog = tf.linalg.matvec(cam_transform, joint)\n",
    "    cam_space_joint = joint_homog / joint_homog[2]\n",
    "    return cam_space_joint\n",
    "\n",
    "def show_batch(image_batch, label_batch):\n",
    "    plt.figure(figsize=(10,10))\n",
    "    for n in range(len(image_batch)):\n",
    "        ax = plt.subplot(5,5,n+1)\n",
    "        plt.imshow(image_batch[n])\n",
    "        poses = label_batch[n]\n",
    "        for pose in poses:\n",
    "            for joint in pose:\n",
    "                text = f\"[{joint[0]},{joint[1]}]\"\n",
    "                print(text)\n",
    "                cam_space_joint = to_cam_space(joint)\n",
    "                plt.text(cam_space_joint[0],cam_space_joint[1], text)\n",
    "        plt.axis('off')\n",
    "\n",
    "def get_annotation_path(img_path):\n",
    "    # convert the path to a list of path components\n",
    "    parts = tf.strings.split(img_path, os.path.sep)\n",
    "    data_split = parts[-3]\n",
    "    seq = parts[-2]\n",
    "    img_name = parts[-1]\n",
    "\n",
    "    anno_name = tf.strings.split(img_name, '.')[0] + '.npy'\n",
    "    anno_path = tf.strings.join([ANNO_PATH,data_split,seq,anno_name], separator='/')\n",
    "    # The second to last is the class-directory\n",
    "    return anno_path\n",
    "\n",
    "def get_annotation(anno_path):\n",
    "    poses = np.load(anno_path, allow_pickle=True)\n",
    "    annos = np.empty([len(poses),15,3], dtype=np.float32)\n",
    "    for i, pose in enumerate(poses):\n",
    "        annos[i,0,0] = pose[0].x3d #TODO ortne richtige gliedmaßen zu\n",
    "        annos[i,0,1] = pose[0].y3d\n",
    "        annos[i,0,2] = pose[0].z3d\n",
    "\n",
    "        annos[i,1,0] = pose[1].x3d\n",
    "        annos[i,1,1] = pose[1].y3d\n",
    "        annos[i,1,2] = pose[1].z3d\n",
    "\n",
    "        annos[i,2,0] = pose[2].x3d\n",
    "        annos[i,2,1] = pose[2].y3d\n",
    "        annos[i,2,2] = pose[2].z3d\n",
    "\n",
    "        annos[i,3,0] = pose[3].x3d\n",
    "        annos[i,3,1] = pose[3].y3d\n",
    "        annos[i,3,2] = pose[3].z3d\n",
    "\n",
    "        annos[i,4,0] = pose[4].x3d\n",
    "        annos[i,4,1] = pose[4].y3d\n",
    "        annos[i,4,2] = pose[4].z3d\n",
    "\n",
    "        annos[i,5,0] = pose[5].x3d\n",
    "        annos[i,5,1] = pose[5].y3d\n",
    "        annos[i,5,2] = pose[5].z3d\n",
    "\n",
    "        annos[i,6,0] = pose[6].x3d\n",
    "        annos[i,6,1] = pose[6].y3d\n",
    "        annos[i,6,2] = pose[6].z3d\n",
    "\n",
    "        annos[i,7,0] = pose[7].x3d\n",
    "        annos[i,7,1] = pose[7].y3d\n",
    "        annos[i,7,2] = pose[7].z3d\n",
    "\n",
    "        annos[i,8,0] = pose[8].x3d\n",
    "        annos[i,8,1] = pose[8].y3d\n",
    "        annos[i,8,2] = pose[8].z3d\n",
    "\n",
    "        annos[i,9,0] = pose[9].x3d\n",
    "        annos[i,9,1] = pose[9].y3d\n",
    "        annos[i,9,2] = pose[9].z3d\n",
    "\n",
    "        annos[i,10,0] = pose[10].x3d\n",
    "        annos[i,10,1] = pose[10].y3d\n",
    "        annos[i,10,2] = pose[10].z3d\n",
    "\n",
    "        annos[i,11,0] = pose[11].x3d\n",
    "        annos[i,11,1] = pose[11].y3d\n",
    "        annos[i,11,2] = pose[11].z3d\n",
    "\n",
    "        annos[i,12,0] = pose[12].x3d\n",
    "        annos[i,12,1] = pose[12].y3d\n",
    "        annos[i,12,2] = pose[12].z3d\n",
    "\n",
    "        annos[i,13,0] = pose[13].x3d\n",
    "        annos[i,13,1] = pose[13].y3d\n",
    "        annos[i,13,2] = pose[13].z3d\n",
    "\n",
    "        annos[i,14,0] = pose[14].x3d\n",
    "        annos[i,14,1] = pose[14].y3d\n",
    "        annos[i,14,2] = pose[14].z3d\n",
    "\n",
    "    return annos\n",
    "\n",
    "def process_path(file_path):\n",
    "    anno_path = get_annotation_path(file_path)\n",
    "    anno = tf.numpy_function(get_annotation, [anno_path], tf.float32)\n",
    "    anno.set_shape([None,15,3])\n",
    "\n",
    "    return file_path, anno\n"
   ]
  },
  {
   "cell_type": "code",
   "execution_count": 5,
   "metadata": {},
   "outputs": [],
   "source": [
    "import ShAReD_Net.data.load.dataset_jta.joint as joint\n",
    "import ShAReD_Net.data.load.dataset_jta.pose as pose\n",
    "sys.modules['joint'] = joint\n",
    "sys.modules['pose'] = pose"
   ]
  },
  {
   "cell_type": "code",
   "execution_count": 6,
   "metadata": {},
   "outputs": [],
   "source": [
    "# Set `num_parallel_calls` so multiple images are loaded/processed in parallel.\n",
    "labeled_ds = image_ds.map(process_path,\n",
    "                          num_parallel_calls=tf.data.experimental.AUTOTUNE)\n"
   ]
  },
  {
   "cell_type": "code",
   "execution_count": 7,
   "metadata": {},
   "outputs": [],
   "source": [
    "def person_pos_from_pose(path, poses):\n",
    "    poss = tf.reduce_mean(poses, axis=-2)\n",
    "    return path, poss, poses"
   ]
  },
  {
   "cell_type": "code",
   "execution_count": 8,
   "metadata": {},
   "outputs": [],
   "source": [
    "pos_pose_ds = labeled_ds.map(person_pos_from_pose)"
   ]
  },
  {
   "cell_type": "code",
   "execution_count": 9,
   "metadata": {},
   "outputs": [],
   "source": [
    "#@tf.function\n",
    "def poss_and_poses_to_img(path, poss, poses):\n",
    "    poss_img = poss_to_img(poss)\n",
    "    poses_img = poses_to_img(poses)\n",
    "\n",
    "    return path, poss_img, poses_img\n",
    "\n",
    "def poss_to_img(poss):\n",
    "    cam_transform = tf.constant([[1158,0,960],[0,1158,540],[0,0,1]], dtype=tf.float32)\n",
    "    poss_homog = tf.linalg.matvec(cam_transform, poss)\n",
    "    poss_img = poss_homog / poss_homog[:,None,-1]\n",
    "    return tf.concat([poss_img[:,:-1],poss[:,None,-1]], axis=-1)\n",
    "\n",
    "def poses_to_img(poses):\n",
    "    cam_transform = tf.constant([[1158,0,960],[0,1158,540],[0,0,1]], dtype=tf.float32)\n",
    "    poses_homog = tf.linalg.matvec(cam_transform, poses)\n",
    "    poses_img = poses_homog / poses_homog[:,:,None,-1]\n",
    "    return tf.concat([poses_img[:,:,:-1],poses[:,:,None,-1]], axis=-1)\n"
   ]
  },
  {
   "cell_type": "code",
   "execution_count": 10,
   "metadata": {},
   "outputs": [],
   "source": [
    "cam_ds = pos_pose_ds.map(poss_and_poses_to_img)"
   ]
  },
  {
   "cell_type": "code",
   "execution_count": 11,
   "metadata": {},
   "outputs": [],
   "source": [
    "\n",
    "def poss_and_poses_to_cut(cut_dist, upscaling, cam_intr_f):\n",
    "    def to_cut(path, poss, poses):\n",
    "        poss_cut = poss_to_cut(poss, cut_dist, upscaling, cam_intr_f)\n",
    "        poses_cut = poses_to_cut(poses, cut_dist, upscaling, cam_intr_f)\n",
    "        return path, poss_cut, poses_cut\n",
    "    return to_cut\n",
    "\n",
    "def poss_to_cut(poss, dist, upscaling, cam_intr_f):\n",
    "    poss_cut = poss * upscaling * dist / cam_intr_f\n",
    "    return tf.concat([poss_cut[:,:-1],poss[:,None,-1]], axis=-1)\n",
    "\n",
    "def poses_to_cut(poses, dist, upscaling, cam_intr_f):\n",
    "    poses_cut = poses * upscaling * dist / cam_intr_f\n",
    "    return tf.concat([poses_cut[:,:,:-1],poses[:,:,None,-1]], axis=-1)\n"
   ]
  },
  {
   "cell_type": "code",
   "execution_count": 12,
   "metadata": {},
   "outputs": [],
   "source": [
    "cut_ds = cam_ds.map(poss_and_poses_to_cut(cut_dist=8, upscaling=50, cam_intr_f = 1158))\n"
   ]
  },
  {
   "cell_type": "code",
   "execution_count": 13,
   "metadata": {},
   "outputs": [],
   "source": [
    "#TODO TEST VALIDATION to singel item datasets\n",
    "def to_poss(path, poss, poses):\n",
    "    return poss\n",
    "\n",
    "\n",
    "poss_ds = cut_ds.map(to_poss).take(5000)\n",
    "poss_ds = poss_ds.flat_map(lambda x: tf.data.Dataset.from_tensor_slices(x))"
   ]
  },
  {
   "cell_type": "code",
   "execution_count": 14,
   "metadata": {},
   "outputs": [],
   "source": [
    "import tensorflow_datasets as tfds\n",
    "import pandas as pd\n",
    "\n",
    "max_pos = poss_ds.reduce(0.,tf.maximum)\n",
    "min_pos = poss_ds.reduce(0.,tf.minimum)\n",
    "sum_pos = poss_ds.reduce(0.,lambda x, y: x + y)\n",
    "mean_pos = sum_pos / 1000\n"
   ]
  },
  {
   "cell_type": "code",
   "execution_count": 15,
   "metadata": {},
   "outputs": [
    {
     "name": "stdout",
     "output_type": "stream",
     "text": [
      "tf.Tensor([1106.8102    850.16473    99.881996], shape=(3,), dtype=float32)\n",
      "tf.Tensor([-361.6305  -199.61678    0.     ], shape=(3,), dtype=float32)\n",
      "tf.Tensor([37487.16  15218.084  3374.135], shape=(3,), dtype=float32)\n"
     ]
    }
   ],
   "source": [
    "print(max_pos)\n",
    "print(min_pos)\n",
    "print(mean_pos)"
   ]
  },
  {
   "cell_type": "code",
   "execution_count": 16,
   "metadata": {},
   "outputs": [],
   "source": [
    "numpy_data = tfds.as_numpy(poss_ds)\n",
    "poss_df = pd.DataFrame(data=numpy_data, columns=[\"x\", \"y\", \"z\"])"
   ]
  },
  {
   "cell_type": "code",
   "execution_count": 17,
   "metadata": {},
   "outputs": [
    {
     "data": {
      "text/plain": [
       "<bound method NDFrame.head of                  x           y          z\n",
       "0       603.592407  100.261513  21.539331\n",
       "1       523.902771  175.481979  12.842667\n",
       "2       399.949921  172.161087  10.839334\n",
       "3       587.254211  127.675735  18.514000\n",
       "4       623.770447  173.022964  11.511333\n",
       "...            ...         ...        ...\n",
       "110700  439.085449  187.741074  12.755332\n",
       "110701  261.162415  190.223007  11.837335\n",
       "110702  177.322586  190.368179  11.112000\n",
       "110703   71.277023  174.971832  44.672668\n",
       "110704  151.603867  191.274094  11.294665\n",
       "\n",
       "[110705 rows x 3 columns]>"
      ]
     },
     "execution_count": 17,
     "metadata": {},
     "output_type": "execute_result"
    }
   ],
   "source": [
    "poss_df.head"
   ]
  },
  {
   "cell_type": "code",
   "execution_count": 28,
   "metadata": {},
   "outputs": [
    {
     "data": {
      "text/plain": [
       "Text(0, 0.5, 'Häufigkeit')"
      ]
     },
     "execution_count": 28,
     "metadata": {},
     "output_type": "execute_result"
    },
    {
     "data": {
      "image/png": "[encoded data removed]",
      "text/plain": [
       "<Figure size 720x360 with 1 Axes>"
      ]
     },
     "metadata": {
      "needs_background": "light"
     },
     "output_type": "display_data"
    }
   ],
   "source": [
    "fig = plt.figure(figsize=(10,5))\n",
    "\n",
    "ax = fig.add_subplot(121)\n",
    "ax.hist(poss_df.z, bins=20)\n",
    "\n",
    "ax.set_title(\"Verteilung der Personen\\n über Entfernung\", fontsize=16)\n",
    "ax.set_xlabel('Entfernung in m')\n",
    "ax.set_ylabel('Häufigkeit')"
   ]
  },
  {
   "cell_type": "code",
   "execution_count": 19,
   "metadata": {},
   "outputs": [
    {
     "data": {
      "text/html": [
       "<div>\n",
       "<style scoped>\n",
       "    .dataframe tbody tr th:only-of-type {\n",
       "        vertical-align: middle;\n",
       "    }\n",
       "\n",
       "    .dataframe tbody tr th {\n",
       "        vertical-align: top;\n",
       "    }\n",
       "\n",
       "    .dataframe thead th {\n",
       "        text-align: right;\n",
       "    }\n",
       "</style>\n",
       "<table border=\"1\" class=\"dataframe\">\n",
       "  <thead>\n",
       "    <tr style=\"text-align: right;\">\n",
       "      <th></th>\n",
       "      <th>x</th>\n",
       "      <th>y</th>\n",
       "      <th>z</th>\n",
       "    </tr>\n",
       "  </thead>\n",
       "  <tbody>\n",
       "    <tr>\n",
       "      <th>count</th>\n",
       "      <td>110705.000000</td>\n",
       "      <td>110705.000000</td>\n",
       "      <td>110705.000000</td>\n",
       "    </tr>\n",
       "    <tr>\n",
       "      <th>mean</th>\n",
       "      <td>336.090666</td>\n",
       "      <td>137.068339</td>\n",
       "      <td>29.838332</td>\n",
       "    </tr>\n",
       "    <tr>\n",
       "      <th>std</th>\n",
       "      <td>142.826849</td>\n",
       "      <td>75.288726</td>\n",
       "      <td>18.735376</td>\n",
       "    </tr>\n",
       "    <tr>\n",
       "      <th>min</th>\n",
       "      <td>-1032.950684</td>\n",
       "      <td>-231.193008</td>\n",
       "      <td>-0.351333</td>\n",
       "    </tr>\n",
       "    <tr>\n",
       "      <th>25%</th>\n",
       "      <td>252.435822</td>\n",
       "      <td>79.503098</td>\n",
       "      <td>15.302668</td>\n",
       "    </tr>\n",
       "    <tr>\n",
       "      <th>50%</th>\n",
       "      <td>334.630280</td>\n",
       "      <td>152.722595</td>\n",
       "      <td>26.064001</td>\n",
       "    </tr>\n",
       "    <tr>\n",
       "      <th>75%</th>\n",
       "      <td>420.764374</td>\n",
       "      <td>188.183121</td>\n",
       "      <td>40.612003</td>\n",
       "    </tr>\n",
       "    <tr>\n",
       "      <th>max</th>\n",
       "      <td>1076.957397</td>\n",
       "      <td>5880.145508</td>\n",
       "      <td>99.793999</td>\n",
       "    </tr>\n",
       "  </tbody>\n",
       "</table>\n",
       "</div>"
      ],
      "text/plain": [
       "                   x              y              z\n",
       "count  110705.000000  110705.000000  110705.000000\n",
       "mean      336.090666     137.068339      29.838332\n",
       "std       142.826849      75.288726      18.735376\n",
       "min     -1032.950684    -231.193008      -0.351333\n",
       "25%       252.435822      79.503098      15.302668\n",
       "50%       334.630280     152.722595      26.064001\n",
       "75%       420.764374     188.183121      40.612003\n",
       "max      1076.957397    5880.145508      99.793999"
      ]
     },
     "execution_count": 19,
     "metadata": {},
     "output_type": "execute_result"
    }
   ],
   "source": [
    "poss_df.describe()\n"
   ]
  }
 ],
 "metadata": {
  "kernelspec": {
   "display_name": "Python 3",
   "language": "python",
   "name": "python3"
  },
  "language_info": {
   "codemirror_mode": {
    "name": "ipython",
    "version": 3
   },
   "file_extension": ".py",
   "mimetype": "text/x-python",
   "name": "python",
   "nbconvert_exporter": "python",
   "pygments_lexer": "ipython3",
   "version": "3.6.9"
  }
 },
 "nbformat": 4,
 "nbformat_minor": 2
}
