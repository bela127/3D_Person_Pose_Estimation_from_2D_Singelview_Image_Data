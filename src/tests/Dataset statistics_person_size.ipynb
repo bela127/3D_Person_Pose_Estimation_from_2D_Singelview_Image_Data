{
 "cells": [
  {
   "cell_type": "code",
   "execution_count": 1,
   "metadata": {},
   "outputs": [
    {
     "name": "stdout",
     "output_type": "stream",
     "text": [
      "ls: cannot access '/media/inferics/DataSets/Public_Datasets/JTA-Dataset/': No such file or directory\r\n"
     ]
    }
   ],
   "source": [
    "!ls /media/inferics/DataSets/Public_Datasets/JTA-Dataset/"
   ]
  },
  {
   "cell_type": "code",
   "execution_count": 2,
   "metadata": {
    "scrolled": true
   },
   "outputs": [],
   "source": [
    "import sys\n",
    "import os\n",
    "\n",
    "import tensorflow as tf\n",
    "import numpy as np\n",
    "import pathlib\n",
    "import matplotlib.pyplot as plt\n",
    "\n"
   ]
  },
  {
   "cell_type": "code",
   "execution_count": 3,
   "metadata": {},
   "outputs": [],
   "source": [
    "from ShAReD_Net.configure import config\n",
    "\n",
    "config.dataset.IMG_PATH = \"/dataset/jta/images\"\n",
    "config.dataset.ANNO_PATH = \"/dataset/jta/new_image_annotations\""
   ]
  },
  {
   "cell_type": "code",
   "execution_count": 4,
   "metadata": {},
   "outputs": [
    {
     "name": "stdout",
     "output_type": "stream",
     "text": [
      "b'/dataset/jta/images/train/seq_188/338.jpg'\n",
      "b'/dataset/jta/images/train/seq_57/201.jpg'\n",
      "b'/dataset/jta/images/train/seq_199/42.png'\n",
      "b'/dataset/jta/images/train/seq_104/694.jpg'\n",
      "b'/dataset/jta/images/train/seq_46/321.jpg'\n"
     ]
    }
   ],
   "source": [
    "image_path = pathlib.Path(config.dataset.IMG_PATH)\n",
    "ANNO_PATH = tf.constant(config.dataset.ANNO_PATH)\n",
    "\n",
    "image_ds = tf.data.Dataset.list_files(str(image_path/'train/*/*')).shuffle(10000)\n",
    "\n",
    "for f in image_ds.take(5):\n",
    "    print(f.numpy())\n"
   ]
  },
  {
   "cell_type": "code",
   "execution_count": 5,
   "metadata": {
    "scrolled": false
   },
   "outputs": [],
   "source": [
    "def to_cam_space(joint):\n",
    "    cam_transform = config.dataset.cam_transform\n",
    "    joint_homog = tf.linalg.matvec(cam_transform, joint)\n",
    "    cam_space_joint = joint_homog / joint_homog[2]\n",
    "    return cam_space_joint\n",
    "\n",
    "def show_batch(image_batch, label_batch):\n",
    "    plt.figure(figsize=(10,10))\n",
    "    for n in range(len(image_batch)):\n",
    "        ax = plt.subplot(5,5,n+1)\n",
    "        plt.imshow(image_batch[n])\n",
    "        poses = label_batch[n]\n",
    "        for pose in poses:\n",
    "            for joint in pose:\n",
    "                text = f\"[{joint[0]},{joint[1]}]\"\n",
    "                print(text)\n",
    "                cam_space_joint = to_cam_space(joint)\n",
    "                plt.text(cam_space_joint[0],cam_space_joint[1], text)\n",
    "        plt.axis('off')\n",
    "\n",
    "def get_annotation_path(img_path):\n",
    "    # convert the path to a list of path components\n",
    "    parts = tf.strings.split(img_path, os.path.sep)\n",
    "    data_split = parts[-3]\n",
    "    seq = parts[-2]\n",
    "    img_name = parts[-1]\n",
    "\n",
    "    anno_name = tf.strings.split(img_name, '.')[0] + '.npy'\n",
    "    anno_path = tf.strings.join([ANNO_PATH,data_split,seq,anno_name], separator='/')\n",
    "    # The second to last is the class-directory\n",
    "    return anno_path\n",
    "\n",
    "def get_annotation(anno_path):\n",
    "    poses = np.load(anno_path, allow_pickle=True)\n",
    "    annos = np.empty([len(poses),15,3], dtype=np.float32)\n",
    "    for i, pose in enumerate(poses):\n",
    "        annos[i,0,0] = pose[1].x3d\n",
    "        annos[i,0,1] = pose[1].y3d\n",
    "        annos[i,0,2] = pose[1].z3d\n",
    "\n",
    "        annos[i,1,0] = pose[2].x3d\n",
    "        annos[i,1,1] = pose[2].y3d\n",
    "        annos[i,1,2] = pose[2].z3d\n",
    "\n",
    "        annos[i,2,0] = pose[15].x3d\n",
    "        annos[i,2,1] = pose[15].y3d\n",
    "        annos[i,2,2] = pose[15].z3d\n",
    "\n",
    "        annos[i,3,0] = pose[4].x3d\n",
    "        annos[i,3,1] = pose[4].y3d\n",
    "        annos[i,3,2] = pose[4].z3d\n",
    "\n",
    "        annos[i,4,0] = pose[8].x3d\n",
    "        annos[i,4,1] = pose[8].y3d\n",
    "        annos[i,4,2] = pose[8].z3d\n",
    "\n",
    "        annos[i,5,0] = pose[5].x3d\n",
    "        annos[i,5,1] = pose[5].y3d\n",
    "        annos[i,5,2] = pose[5].z3d\n",
    "\n",
    "        annos[i,6,0] = pose[9].x3d\n",
    "        annos[i,6,1] = pose[9].y3d\n",
    "        annos[i,6,2] = pose[9].z3d\n",
    "\n",
    "        annos[i,7,0] = pose[6].x3d\n",
    "        annos[i,7,1] = pose[6].y3d\n",
    "        annos[i,7,2] = pose[6].z3d\n",
    "\n",
    "        annos[i,8,0] = pose[10].x3d\n",
    "        annos[i,8,1] = pose[10].y3d\n",
    "        annos[i,8,2] = pose[10].z3d\n",
    "\n",
    "        annos[i,9,0] = pose[16].x3d\n",
    "        annos[i,9,1] = pose[16].y3d\n",
    "        annos[i,9,2] = pose[16].z3d\n",
    "\n",
    "        annos[i,10,0] = pose[19].x3d\n",
    "        annos[i,10,1] = pose[19].y3d\n",
    "        annos[i,10,2] = pose[19].z3d\n",
    "\n",
    "        annos[i,11,0] = pose[17].x3d\n",
    "        annos[i,11,1] = pose[17].y3d\n",
    "        annos[i,11,2] = pose[17].z3d\n",
    "\n",
    "        annos[i,12,0] = pose[20].x3d\n",
    "        annos[i,12,1] = pose[20].y3d\n",
    "        annos[i,12,2] = pose[20].z3d\n",
    "\n",
    "        annos[i,13,0] = pose[18].x3d\n",
    "        annos[i,13,1] = pose[18].y3d\n",
    "        annos[i,13,2] = pose[18].z3d\n",
    "\n",
    "        annos[i,14,0] = pose[21].x3d\n",
    "        annos[i,14,1] = pose[21].y3d\n",
    "        annos[i,14,2] = pose[21].z3d\n",
    "\n",
    "    return annos\n",
    "\n",
    "def process_path(file_path):\n",
    "    anno_path = get_annotation_path(file_path)\n",
    "    anno = tf.numpy_function(get_annotation, [anno_path], tf.float32)\n",
    "    anno.set_shape([None,15,3])\n",
    "\n",
    "    return file_path, anno\n"
   ]
  },
  {
   "cell_type": "code",
   "execution_count": 6,
   "metadata": {},
   "outputs": [],
   "source": [
    "import ShAReD_Net.data.load.dataset_jta.joint as joint\n",
    "import ShAReD_Net.data.load.dataset_jta.pose as pose\n",
    "sys.modules['joint'] = joint\n",
    "sys.modules['pose'] = pose"
   ]
  },
  {
   "cell_type": "code",
   "execution_count": 7,
   "metadata": {},
   "outputs": [],
   "source": [
    "# Set `num_parallel_calls` so multiple images are loaded/processed in parallel.\n",
    "labeled_ds = image_ds.map(process_path,\n",
    "                          num_parallel_calls=tf.data.experimental.AUTOTUNE)\n"
   ]
  },
  {
   "cell_type": "code",
   "execution_count": 8,
   "metadata": {},
   "outputs": [],
   "source": [
    "def person_pos_from_pose(path, poses):\n",
    "    poss = tf.reduce_mean(poses, axis=-2)\n",
    "    return path, poss, poses"
   ]
  },
  {
   "cell_type": "code",
   "execution_count": 9,
   "metadata": {},
   "outputs": [],
   "source": [
    "pos_pose_ds = labeled_ds.map(person_pos_from_pose)"
   ]
  },
  {
   "cell_type": "code",
   "execution_count": 10,
   "metadata": {},
   "outputs": [],
   "source": [
    "#@tf.function\n",
    "def poss_and_poses_to_img(path, poss, poses):\n",
    "    poss_img = poss_to_img(poss)\n",
    "    poses_img = poses_to_img(poses)\n",
    "\n",
    "    return path, poss_img, poses_img\n",
    "\n",
    "def poss_to_img(poss):\n",
    "    cam_transform = config.dataset.cam_transform\n",
    "    poss_homog = tf.linalg.matvec(cam_transform, poss)\n",
    "    poss_img = poss_homog / poss_homog[:,None,-1]\n",
    "    return tf.concat([poss_img[:,:-1],poss[:,None,-1]], axis=-1)\n",
    "\n",
    "def poses_to_img(poses):\n",
    "    cam_transform = config.dataset.cam_transform\n",
    "    poses_homog = tf.linalg.matvec(cam_transform, poses)\n",
    "    poses_img = poses_homog / poses_homog[:,:,None,-1]\n",
    "    return tf.concat([poses_img[:,:,:-1],poses[:,:,None,-1]], axis=-1)\n"
   ]
  },
  {
   "cell_type": "code",
   "execution_count": 11,
   "metadata": {},
   "outputs": [],
   "source": [
    "cam_ds = pos_pose_ds.map(poss_and_poses_to_img)"
   ]
  },
  {
   "cell_type": "code",
   "execution_count": 12,
   "metadata": {},
   "outputs": [],
   "source": [
    "\n",
    "def poss_and_poses_to_cut(cut_dist, dist_delta, upscaling, cam_intr_f):\n",
    "    def to_cut(img, poss, poses):\n",
    "        poss_cut = poss_to_cut(poss, cut_dist, upscaling, cam_intr_f)\n",
    "        poses_cut = poses_to_cut(poses, cut_dist, upscaling, cam_intr_f)\n",
    "        poss_cut_filtered, poses_cut_filtered = filter_poss_and_pose(poss_cut, poses_cut, cut_dist, dist_delta)\n",
    "        return img, poss_cut_filtered, poses_cut_filtered\n",
    "    return to_cut\n",
    "\n",
    "def poss_to_cut(poss, dist, upscaling, cam_intr_f):\n",
    "    poss_cut = poss * upscaling * dist / cam_intr_f\n",
    "    return tf.concat([poss_cut[:,:-1],poss[:,None,-1]], axis=-1)\n",
    "\n",
    "def poses_to_cut(poses, dist, upscaling, cam_intr_f):\n",
    "    poses_cut = poses * upscaling * dist / cam_intr_f\n",
    "    return tf.concat([poses_cut[:,:,:-1],poses[:,:,None,-1]], axis=-1)\n",
    "\n",
    "def filter_poss_and_pose(poss, poses, dist, dist_delta):\n",
    "    indexes = tf.where(tf.abs(poss[:,-1]-dist) < dist_delta)\n",
    "    filtered_poss = tf.gather_nd(poss, indexes)\n",
    "    filtered_poses = tf.gather_nd(poses, indexes)\n",
    "\n",
    "    return filtered_poss, filtered_poses\n",
    "\n"
   ]
  },
  {
   "cell_type": "code",
   "execution_count": 13,
   "metadata": {},
   "outputs": [],
   "source": [
    "cut_ds = cam_ds.map(poss_and_poses_to_cut(cut_dist=15, dist_delta=config.model.data.cut_delta, upscaling=config.model.data.upscaling, cam_intr_f = config.dataset.cam_intr_f))\n"
   ]
  },
  {
   "cell_type": "code",
   "execution_count": 14,
   "metadata": {},
   "outputs": [],
   "source": [
    "#TODO TEST VALIDATION to singel item datasets\n",
    "def to_rel_poses(path, poss, poses):\n",
    "    return poses-poss[:,None,:]\n",
    "\n",
    "poses_ds = cut_ds.map(to_rel_poses)\n",
    "poses_ds = poses_ds.flat_map(lambda x: tf.data.Dataset.from_tensor_slices(x))"
   ]
  },
  {
   "cell_type": "code",
   "execution_count": 15,
   "metadata": {},
   "outputs": [],
   "source": [
    "import tensorflow_datasets as tfds\n",
    "import pandas as pd\n"
   ]
  },
  {
   "cell_type": "code",
   "execution_count": 16,
   "metadata": {},
   "outputs": [],
   "source": [
    "def to_keypoints(pose):\n",
    "    return tf.concat(tf.unstack(pose),axis=-1)"
   ]
  },
  {
   "cell_type": "code",
   "execution_count": 17,
   "metadata": {},
   "outputs": [],
   "source": [
    "keypoint_ds = poses_ds.map(to_keypoints).take(3000)\n"
   ]
  },
  {
   "cell_type": "code",
   "execution_count": 18,
   "metadata": {},
   "outputs": [],
   "source": [
    "numpy_data = tfds.as_numpy(keypoint_ds)\n",
    "keypoint_df = pd.DataFrame(data=numpy_data)"
   ]
  },
  {
   "cell_type": "code",
   "execution_count": 19,
   "metadata": {},
   "outputs": [
    {
     "name": "stdout",
     "output_type": "stream",
     "text": [
      "58.514739990234375\n"
     ]
    },
    {
     "data": {
      "text/plain": [
       "(array([15.,  0.,  3.,  0.,  5.,  2.,  3.,  1.,  2.,  1.,  2.,  2.,  2.,\n",
       "         3.,  0.,  0.,  2.,  0.,  0.,  2.]),\n",
       " array([ 0.40666485,  3.31206861,  6.21747236,  9.12287612, 12.02827988,\n",
       "        14.93368363, 17.83908739, 20.74449115, 23.64989491, 26.55529866,\n",
       "        29.46070242, 32.36610618, 35.27150993, 38.17691369, 41.08231745,\n",
       "        43.9877212 , 46.89312496, 49.79852872, 52.70393248, 55.60933623,\n",
       "        58.51473999]),\n",
       " <a list of 20 Patch objects>)"
      ]
     },
     "execution_count": 19,
     "metadata": {},
     "output_type": "execute_result"
    },
    {
     "data": {
      "image/png": "[encoded data removed]",
      "text/plain": [
       "<Figure size 432x288 with 1 Axes>"
      ]
     },
     "metadata": {
      "needs_background": "light"
     },
     "output_type": "display_data"
    }
   ],
   "source": [
    "inter_person_size_df = (keypoint_df.max() - keypoint_df.min())\n",
    "print(inter_person_size_df.max())\n",
    "plt.hist(inter_person_size_df, 20)"
   ]
  },
  {
   "cell_type": "code",
   "execution_count": 20,
   "metadata": {},
   "outputs": [],
   "source": [
    "person_size_df = keypoint_df.T.max() - keypoint_df.T.min()"
   ]
  },
  {
   "cell_type": "code",
   "execution_count": 21,
   "metadata": {},
   "outputs": [
    {
     "name": "stdout",
     "output_type": "stream",
     "text": [
      "73.65481567382812\n",
      "39.18544006347656\n"
     ]
    },
    {
     "data": {
      "text/plain": [
       "(array([  1.,   0.,   9.,   7.,   7.,  11.,  50., 149., 302., 351., 335.,\n",
       "        335., 318., 289., 239., 248., 197., 101.,  37.,  14.]),\n",
       " array([39.18544006, 40.90890884, 42.63237762, 44.35584641, 46.07931519,\n",
       "        47.80278397, 49.52625275, 51.24972153, 52.97319031, 54.69665909,\n",
       "        56.42012787, 58.14359665, 59.86706543, 61.59053421, 63.31400299,\n",
       "        65.03747177, 66.76094055, 68.48440933, 70.20787811, 71.93134689,\n",
       "        73.65481567]),\n",
       " <a list of 20 Patch objects>)"
      ]
     },
     "execution_count": 21,
     "metadata": {},
     "output_type": "execute_result"
    },
    {
     "data": {
      "image/png": "[encoded data removed]",
      "text/plain": [
       "<Figure size 432x288 with 1 Axes>"
      ]
     },
     "metadata": {
      "needs_background": "light"
     },
     "output_type": "display_data"
    }
   ],
   "source": [
    "print(person_size_df.max())\n",
    "print(person_size_df.min())\n",
    "\n",
    "plt.hist(person_size_df, 20)\n"
   ]
  },
  {
   "cell_type": "markdown",
   "metadata": {},
   "source": [
    "### upscaling = 32 -> mean_person_size = 42, max_person_size = 60, min_person_size = 37 -> 11/15/10 ROI\n",
    "### upscaling = 36 -> mean_person_size = 47, max_person_size = 67, min_person_size = 42 -> 12/17/11 ROI\n",
    "### upscaling = 50 -> mean_person_size = 67, max_person_size = 95, min_person_size = 60 -> 17/24/15 ROI"
   ]
  }
 ],
 "metadata": {
  "kernelspec": {
   "display_name": "Python 3",
   "language": "python",
   "name": "python3"
  },
  "language_info": {
   "codemirror_mode": {
    "name": "ipython",
    "version": 3
   },
   "file_extension": ".py",
   "mimetype": "text/x-python",
   "name": "python",
   "nbconvert_exporter": "python",
   "pygments_lexer": "ipython3",
   "version": "3.6.9"
  }
 },
 "nbformat": 4,
 "nbformat_minor": 2
}
