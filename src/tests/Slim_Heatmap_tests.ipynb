{
 "cells": [
  {
   "cell_type": "code",
   "execution_count": 1,
   "metadata": {},
   "outputs": [],
   "source": [
    "import numpy as np\n",
    "import tensorflow as tf\n",
    "import matplotlib.pyplot as plt\n"
   ]
  },
  {
   "cell_type": "code",
   "execution_count": 2,
   "metadata": {},
   "outputs": [],
   "source": [
    "import ShAReD_Net.model.layer.slim_heatmap_2d as heatmap_2d\n",
    "import ShAReD_Net.model.layer.slim_heatmap_1d as heatmap_1d\n"
   ]
  },
  {
   "cell_type": "code",
   "execution_count": 3,
   "metadata": {},
   "outputs": [],
   "source": [
    "def show_imgs(images, text = \"\"):\n",
    "    plt.figure(figsize=(10,30))\n",
    "    bs = images.shape[0]\n",
    "    for b in range(bs):\n",
    "        ks = images.shape[1]\n",
    "        for k in range(ks):\n",
    "            cs = images.shape[-1]\n",
    "            for c in range(cs):\n",
    "                ax = plt.subplot(8,2,b*ks*cs+k*cs+c+1)\n",
    "                plt.imshow(images[b,k,...,c])\n",
    "                plt.title(text)\n",
    "                plt.axis('off')"
   ]
  },
  {
   "cell_type": "code",
   "execution_count": 4,
   "metadata": {},
   "outputs": [],
   "source": [
    "from ShAReD_Net.configure import config\n",
    "\n",
    "config.model.output.keypoints = 1\n",
    "keypoints = config.model.output.keypoints"
   ]
  },
  {
   "cell_type": "code",
   "execution_count": 5,
   "metadata": {
    "scrolled": true
   },
   "outputs": [
    {
     "name": "stdout",
     "output_type": "stream",
     "text": [
      "loc_prop_map_shape (4, 1, 20, 40, 1)\n",
      "tf.Tensor(\n",
      "[[[0.9999999 ]]\n",
      "\n",
      " [[0.9999999 ]]\n",
      "\n",
      " [[0.99999964]]\n",
      "\n",
      " [[0.99999976]]], shape=(4, 1, 1), dtype=float32)\n",
      "LocationMap None\n",
      "loc_map_shape (1, 1, 20, 40, 2)\n",
      "pos tf.Tensor([390. 190.], shape=(2,), dtype=float32)\n",
      "sum_loc_prob tf.Tensor(\n",
      "[[[1.]]\n",
      "\n",
      " [[1.]]\n",
      "\n",
      " [[1.]]\n",
      "\n",
      " [[2.]]], shape=(4, 1, 1), dtype=float32)\n",
      "loc: tf.Tensor(\n",
      "[[[205. 105.]]\n",
      "\n",
      " [[205. 105.]]\n",
      "\n",
      " [[300.  30.]]\n",
      "\n",
      " [[ 25. 175.]]], shape=(4, 1, 2), dtype=float32)\n",
      "gt: [[[205. 105.]]\n",
      "\n",
      " [[205. 105.]]\n",
      "\n",
      " [[300.  30.]]\n",
      "\n",
      " [[ 25. 175.]]]\n",
      "loc: tf.Tensor(\n",
      "[[[205. 105.]]\n",
      "\n",
      " [[205. 105.]]\n",
      "\n",
      " [[300.  30.]]\n",
      "\n",
      " [[ 50. 350.]]], shape=(4, 1, 2), dtype=float32)\n",
      "gt: [[[205. 105.]]\n",
      "\n",
      " [[205. 105.]]\n",
      "\n",
      " [[300.  30.]]\n",
      "\n",
      " [[ 25. 175.]]]\n",
      "gt_shape (4, 1, 2)\n",
      "var_loss: tf.Tensor(\n",
      "[[[1.9073486e-06 1.9073486e-06]]\n",
      "\n",
      " [[2.0000000e+02 2.0000000e+02]]\n",
      "\n",
      " [[0.0000000e+00 0.0000000e+00]]\n",
      "\n",
      " [[2.5000002e+01 2.5000002e+01]]], shape=(4, 1, 2), dtype=float32)\n",
      "var_loss_shape: (4, 1, 2)\n",
      "loc_loss: tf.Tensor(\n",
      "[[[    0.     0.]]\n",
      "\n",
      " [[    0.     0.]]\n",
      "\n",
      " [[    0.     0.]]\n",
      "\n",
      " [[  625. 30625.]]], shape=(4, 1, 2), dtype=float32)\n",
      "loc_loss_shape: (4, 1, 2)\n"
     ]
    },
    {
     "data": {
      "image/png": "[encoded data removed]",
      "text/plain": [
       "<Figure size 720x2160 with 4 Axes>"
      ]
     },
     "metadata": {
      "needs_background": "light"
     },
     "output_type": "display_data"
    },
    {
     "data": {
      "image/png": "[encoded data removed]",
      "text/plain": [
       "<Figure size 720x2160 with 4 Axes>"
      ]
     },
     "metadata": {
      "needs_background": "light"
     },
     "output_type": "display_data"
    },
    {
     "data": {
      "image/png": "[encoded data removed]",
      "text/plain": [
       "<Figure size 720x2160 with 2 Axes>"
      ]
     },
     "metadata": {
      "needs_background": "light"
     },
     "output_type": "display_data"
    }
   ],
   "source": [
    "bins = [40,20]\n",
    "\n",
    "loc_prop_map = np.zeros([4,bins[1],bins[0],1],dtype=np.float32)\n",
    "loc_prop_map[0,10,20,0]=0.5   #x,y [20.5,10.5]\n",
    "loc_prop_map[0,11,21,0]=0.5   \n",
    "loc_prop_map[1,9,19,0]=0.5    #x,y [20.5,10.5]\n",
    "loc_prop_map[1,12,22,0]=0.5\n",
    "loc_prop_map[2,3,30,0]=1      #x,y [30,3]\n",
    "loc_prop_map[3,17,2,0]=1\n",
    "loc_prop_map[3,18,3,0]=1      #x,y [2.5,17.5]\n",
    "\n",
    "gt_loc = np.asarray([[[205,105]],[[205,105]],[[300,30]],[[25,175]]],dtype=np.float32)\n",
    "\n",
    "loc_prop_map = tf.transpose(loc_prop_map,[0,3,1,2])[...,None] #[b, k, y, x, p[]]\n",
    "print(\"loc_prop_map_shape\", loc_prop_map.shape)\n",
    "show_imgs(loc_prop_map,\"loc_prop_map\")\n",
    "\n",
    "ftpm = heatmap_2d.FeatureToLocationPropabilityMap()\n",
    "loc_prop_map_test = ftpm(loc_prop_map)\n",
    "print(tf.reduce_sum(loc_prop_map_test,axis=[2,3]))\n",
    "\n",
    "show_imgs(loc_prop_map_test,\"loc_prop_map_test\")\n",
    "\n",
    "loc_map_op = heatmap_2d.LocationMap(min_loc=[0,0], max_loc=[400,200],bins=bins)\n",
    "loc_map = loc_map_op([0.,0.])\n",
    "print(\"loc_map_shape\", loc_map.shape)\n",
    "\n",
    "show_imgs(loc_map,\"loc_map\")\n",
    "print(\"pos\",loc_map[0,0,19,39])  #x,y [39,19] = 390,190\n",
    "\n",
    "\n",
    "sum_loc_prob = tf.reduce_sum(loc_prop_map, axis=[2,3])\n",
    "loc_prop_map_test = loc_prop_map / sum_loc_prob[:,:,None,None,:]\n",
    "print(\"sum_loc_prob\",sum_loc_prob)\n",
    "\n",
    "pmtl = heatmap_2d.PropabilityMapToLocation()\n",
    "loc = pmtl([loc_prop_map_test, loc_map])\n",
    "print(\"loc:\",loc)\n",
    "print(\"gt:\",gt_loc)\n",
    "\n",
    "assert(tf.reduce_all(loc == gt_loc))\n",
    "\n",
    "pmtl = heatmap_2d.PropabilityMapToLocation()\n",
    "loc = pmtl([loc_prop_map, loc_map])\n",
    "print(\"loc:\",loc)\n",
    "print(\"gt:\",gt_loc)\n",
    "\n",
    "print(\"gt_shape\",gt_loc.shape)\n",
    "\n",
    "vll = heatmap_2d.VarianceLocatonLoss(loc_map_op.loc_delta)\n",
    "loss = vll([loc_prop_map, loc_map, gt_loc])\n",
    "print(\"var_loss:\",loss)\n",
    "print(\"var_loss_shape:\",loss.shape)\n",
    "\n",
    "vlapl = heatmap_2d.VarianceLocationAndPossitionLoss(loc_map_op.loc_delta)\n",
    "loss,var = vlapl([loc, gt_loc, loc_prop_map, loc_map])\n",
    "print(\"loc_loss:\",loss)\n",
    "print(\"loc_loss_shape:\",loss.shape)"
   ]
  },
  {
   "cell_type": "code",
   "execution_count": 6,
   "metadata": {},
   "outputs": [],
   "source": [
    "def show_imgs_z(images,text=\"\"):\n",
    "    plt.figure(figsize=(30,5))\n",
    "    for i, img in enumerate(images):\n",
    "        cs = img.shape[-1]\n",
    "        for c in range(cs):\n",
    "            ax = plt.subplot(2,20,i*cs+c+1)\n",
    "            plt.imshow(img[...,c])\n",
    "            plt.title(text)\n",
    "            plt.axis('off')"
   ]
  },
  {
   "cell_type": "code",
   "execution_count": 7,
   "metadata": {},
   "outputs": [
    {
     "name": "stdout",
     "output_type": "stream",
     "text": [
      "tf.Tensor(\n",
      "[[[0.  0.  0.  0.  0.  0.  0.  0.  0.  0.  0.5 0.5 0.  0.  0.  0.  0.\n",
      "   0.  0.  0. ]]\n",
      "\n",
      " [[0.  0.  0.  0.5 0.5 0.  0.  0.  0.  0.  0.  0.  0.  0.  0.  0.  0.\n",
      "   0.  0.  0. ]]\n",
      "\n",
      " [[0.  0.  0.  0.  0.  0.  0.  0.  0.  0.  0.  0.  0.  0.  0.  0.  0.\n",
      "   0.  0.  1. ]]\n",
      "\n",
      " [[0.  0.  0.  0.  0.  0.  0.  0.  0.  0.  1.  1.  0.  0.  0.  0.  0.\n",
      "   0.  0.  0. ]]], shape=(4, 1, 20), dtype=float32)\n",
      "tf.Tensor(\n",
      "[[[0.04695399 0.04695399 0.04695399 0.04695399 0.04695399 0.04695399\n",
      "   0.04695399 0.04695399 0.04695399 0.04695399 0.07741405 0.07741405\n",
      "   0.04695399 0.04695399 0.04695399 0.04695399 0.04695399 0.04695399\n",
      "   0.04695399 0.04695399]]\n",
      "\n",
      " [[0.04695399 0.04695399 0.04695399 0.07741405 0.07741405 0.04695399\n",
      "   0.04695399 0.04695399 0.04695399 0.04695399 0.04695399 0.04695399\n",
      "   0.04695399 0.04695399 0.04695399 0.04695399 0.04695399 0.04695399\n",
      "   0.04695399 0.04695399]]\n",
      "\n",
      " [[0.04604416 0.04604416 0.04604416 0.04604416 0.04604416 0.04604416\n",
      "   0.04604416 0.04604416 0.04604416 0.04604416 0.04604416 0.04604416\n",
      "   0.04604416 0.04604416 0.04604416 0.04604416 0.04604416 0.04604416\n",
      "   0.04604416 0.12516099]]\n",
      "\n",
      " [[0.04266837 0.04266837 0.04266837 0.04266837 0.04266837 0.04266837\n",
      "   0.04266837 0.04266837 0.04266837 0.04266837 0.11598466 0.11598466\n",
      "   0.04266837 0.04266837 0.04266837 0.04266837 0.04266837 0.04266837\n",
      "   0.04266837 0.04266837]]], shape=(4, 1, 20), dtype=float32)\n",
      "tf.Tensor(\n",
      "[[[10. 12. 14. 16. 18. 20. 22. 24. 26. 28. 30. 32. 34. 36. 38. 40. 42.\n",
      "   44. 46. 48.]]], shape=(1, 1, 20), dtype=float32)\n",
      "loc: tf.Tensor(\n",
      "[[[31.]]\n",
      "\n",
      " [[17.]]\n",
      "\n",
      " [[48.]]\n",
      "\n",
      " [[62.]]], shape=(4, 1, 1), dtype=float32)\n",
      "var_loss: tf.Tensor(\n",
      "[[[   0.]]\n",
      "\n",
      " [[   0.]]\n",
      "\n",
      " [[   0.]]\n",
      "\n",
      " [[1923.]]], shape=(4, 1, 1), dtype=float32)\n",
      "loc_loss: (<tf.Tensor: shape=(4, 1, 1), dtype=float32, numpy=\n",
      "array([[[0.]],\n",
      "\n",
      "       [[0.]],\n",
      "\n",
      "       [[0.]],\n",
      "\n",
      "       [[0.]]], dtype=float32)>, <tf.Tensor: shape=(4, 1, 1), dtype=float32, numpy=\n",
      "array([[[   0.]],\n",
      "\n",
      "       [[   0.]],\n",
      "\n",
      "       [[   0.]],\n",
      "\n",
      "       [[1923.]]], dtype=float32)>)\n"
     ]
    },
    {
     "data": {
      "image/png": "[encoded data removed]",
      "text/plain": [
       "<Figure size 2160x360 with 40 Axes>"
      ]
     },
     "metadata": {
      "needs_background": "light"
     },
     "output_type": "display_data"
    }
   ],
   "source": [
    "bins = 20\n",
    "bin_half = int(bins/2)\n",
    "loc_prop_map = np.zeros([2,7,5,bins],dtype=np.float32)\n",
    "loc_prop_map[0,1,3,bin_half]=0.5\n",
    "loc_prop_map[0,1,3,bin_half+1]=0.5\n",
    "loc_prop_map[0,6,2,3]=0.5\n",
    "loc_prop_map[0,6,2,4]=0.5\n",
    "loc_prop_map[0,4,4,19]=1\n",
    "loc_prop_map[1,1,1,bin_half]=1\n",
    "loc_prop_map[1,1,1,bin_half+1]=1\n",
    "\n",
    "gt_index = np.asarray([[0,1,3],[0,6,2],[0,4,4],[1,1,1]],dtype=np.int32)\n",
    "gt_loc = np.asarray([[[31]],[[17]],[[48]],[[62]]],dtype=np.float32)\n",
    "\n",
    "show_imgs_z(loc_prop_map,\"loc_prop_map\")\n",
    "\n",
    "relevant_features = tf.gather_nd(loc_prop_map, gt_index) # [b*k, bins]\n",
    "relevant_features = tf.reshape(relevant_features, [-1,keypoints,bins]) \n",
    "print(relevant_features)\n",
    "\n",
    "ftpm = heatmap_1d.FeatureToLocationPropabilityMap()\n",
    "loc_prop_map_test = ftpm(relevant_features)\n",
    "\n",
    "print(loc_prop_map_test)\n",
    "\n",
    "loc_map_op = heatmap_1d.LocationMap(bins=bins, min_loc=10, max_loc=50)\n",
    "loc_map = loc_map_op(0.)\n",
    "print(loc_map)\n",
    "\n",
    "\n",
    "pmtl = heatmap_1d.PropabilityMapToLocation()\n",
    "loc = pmtl([relevant_features, loc_map])\n",
    "print(\"loc:\",loc)\n",
    "\n",
    "\n",
    "\n",
    "vll = heatmap_1d.VarianceLocatonLoss(loc_map_op.loc_delta)\n",
    "loss = vll([relevant_features, loc_map, gt_loc])\n",
    "print(\"var_loss:\",loss)\n",
    "\n",
    "vlapl = heatmap_1d.VarianceLocationAndPossitionLoss(loc_map_op.loc_delta)\n",
    "loss = vlapl([loc, gt_loc, relevant_features, loc_map])\n",
    "print(\"loc_loss:\",loss)\n"
   ]
  },
  {
   "cell_type": "code",
   "execution_count": null,
   "metadata": {},
   "outputs": [],
   "source": []
  }
 ],
 "metadata": {
  "kernelspec": {
   "display_name": "Python 3",
   "language": "python",
   "name": "python3"
  },
  "language_info": {
   "codemirror_mode": {
    "name": "ipython",
    "version": 3
   },
   "file_extension": ".py",
   "mimetype": "text/x-python",
   "name": "python",
   "nbconvert_exporter": "python",
   "pygments_lexer": "ipython3",
   "version": "3.6.9"
  }
 },
 "nbformat": 4,
 "nbformat_minor": 2
}
