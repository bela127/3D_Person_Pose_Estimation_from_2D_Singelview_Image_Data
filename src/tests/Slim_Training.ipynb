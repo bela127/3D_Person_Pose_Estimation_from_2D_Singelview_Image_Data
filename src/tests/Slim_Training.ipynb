{
 "nbformat": 4,
 "nbformat_minor": 2,
 "metadata": {
  "language_info": {
   "name": "python",
   "codemirror_mode": {
    "name": "ipython",
    "version": 3
   },
   "version": "3.7.7-final"
  },
  "orig_nbformat": 2,
  "file_extension": ".py",
  "mimetype": "text/x-python",
  "name": "python",
  "npconvert_exporter": "python",
  "pygments_lexer": "ipython3",
  "version": 3,
  "kernelspec": {
   "name": "python37764bit3dposebaseconda3bda7be3add84732aaeeed5d00538e46",
   "display_name": "Python 3.7.7 64-bit ('3d-pose-base': conda)"
  }
 },
 "cells": [
  {
   "cell_type": "code",
   "execution_count": 1,
   "metadata": {},
   "outputs": [],
   "source": [
    "import tensorflow as tf\n",
    "import numpy as np"
   ]
  },
  {
   "cell_type": "code",
   "execution_count": 2,
   "metadata": {},
   "outputs": [
    {
     "output_type": "stream",
     "name": "stdout",
     "text": "[PhysicalDevice(name='/physical_device:CPU:0', device_type='CPU'), PhysicalDevice(name='/physical_device:GPU:0', device_type='GPU'), PhysicalDevice(name='/physical_device:GPU:1', device_type='GPU'), PhysicalDevice(name='/physical_device:GPU:2', device_type='GPU'), PhysicalDevice(name='/physical_device:GPU:3', device_type='GPU')]\n0\n0\n12\n12\n3 Physical GPUs, 3 Logical GPUs\nphysical_devs [PhysicalDevice(name='/physical_device:CPU:0', device_type='CPU'), PhysicalDevice(name='/physical_device:XLA_CPU:0', device_type='XLA_CPU'), PhysicalDevice(name='/physical_device:XLA_GPU:0', device_type='XLA_GPU'), PhysicalDevice(name='/physical_device:XLA_GPU:1', device_type='XLA_GPU'), PhysicalDevice(name='/physical_device:XLA_GPU:2', device_type='XLA_GPU'), PhysicalDevice(name='/physical_device:XLA_GPU:3', device_type='XLA_GPU'), PhysicalDevice(name='/physical_device:GPU:0', device_type='GPU'), PhysicalDevice(name='/physical_device:GPU:1', device_type='GPU'), PhysicalDevice(name='/physical_device:GPU:2', device_type='GPU'), PhysicalDevice(name='/physical_device:GPU:3', device_type='GPU')]\nlogical_devs [LogicalDevice(name='/device:CPU:0', device_type='CPU'), LogicalDevice(name='/device:XLA_CPU:0', device_type='XLA_CPU'), LogicalDevice(name='/device:XLA_GPU:1', device_type='XLA_GPU'), LogicalDevice(name='/device:XLA_GPU:2', device_type='XLA_GPU'), LogicalDevice(name='/device:XLA_GPU:3', device_type='XLA_GPU'), LogicalDevice(name='/device:GPU:0', device_type='GPU'), LogicalDevice(name='/device:GPU:1', device_type='GPU'), LogicalDevice(name='/device:GPU:2', device_type='GPU')]\n2.2.0-dev20200411\n"
    }
   ],
   "source": [
    "devs = tf.config.get_visible_devices()\n",
    "print(devs)\n",
    "\n",
    "print(tf.config.threading.get_inter_op_parallelism_threads())\n",
    "print(tf.config.threading.get_intra_op_parallelism_threads())\n",
    "tf.config.threading.set_inter_op_parallelism_threads(12)\n",
    "tf.config.threading.set_intra_op_parallelism_threads(12)\n",
    "print(tf.config.threading.get_inter_op_parallelism_threads())\n",
    "print(tf.config.threading.get_intra_op_parallelism_threads())\n",
    "\n",
    "gpus = tf.config.experimental.list_physical_devices('GPU')\n",
    "gpus = gpus[1:] \n",
    "if gpus:\n",
    "    try:\n",
    "    # Currently, memory growth needs to be the same across GPUs\n",
    "        for gpu in gpus:\n",
    "            tf.config.experimental.set_memory_growth(gpu, True)\n",
    "        tf.config.experimental.set_visible_devices(gpus, 'GPU')\n",
    "        logical_gpus = tf.config.experimental.list_logical_devices('GPU')\n",
    "        print(len(gpus), \"Physical GPUs,\", len(logical_gpus), \"Logical GPUs\")\n",
    "    except RuntimeError as e:\n",
    "        # Memory growth must be set before GPUs have been initialized\n",
    "        print(e)\n",
    "logical_devs = tf.config.list_logical_devices()\n",
    "physical_devs = tf.config.experimental.list_physical_devices()\n",
    "\n",
    "print(\"physical_devs\",physical_devs)\n",
    "print(\"logical_devs\", logical_devs)\n",
    "\n",
    "\n",
    "\n",
    "print(tf.version.VERSION)"
   ]
  },
  {
   "cell_type": "code",
   "execution_count": 3,
   "metadata": {},
   "outputs": [],
   "source": [
    "import ShAReD_Net.training.train_distributed as train\n",
    "\n",
    "import ShAReD_Net.training.slim as training_slim\n",
    "import ShAReD_Net.model.slim as model_slim"
   ]
  },
  {
   "cell_type": "code",
   "execution_count": 4,
   "metadata": {},
   "outputs": [],
   "source": [
    "from ShAReD_Net.configure import config\n",
    "\n",
    ""
   ]
  },
  {
   "cell_type": "code",
   "execution_count": 5,
   "metadata": {},
   "outputs": [],
   "source": [
    "import ShAReD_Net.data.transform.transform as transform\n",
    "\n",
    "data_split = \"train\"\n",
    "train_ds = transform.create_dataset(data_split)"
   ]
  },
  {
   "cell_type": "code",
   "execution_count": 6,
   "metadata": {},
   "outputs": [],
   "source": [
    "low_level_extractor = model_slim.LowLevelExtractor(color_channel=13, texture_channel=16, texture_compositions=16, out_channel=32)\n",
    "\n",
    "encoder = model_slim.Encoder(dense_blocks_count=2, dense_filter_count=48)\n",
    "\n",
    "pos_decoder = model_slim.PosDecoder(dense_blocks_count=2, dense_filter_count=48)\n",
    "\n",
    "pose_decoder = model_slim.PoseDecoder(keypoints=15, z_bins=20, dense_blocks_count=2, dense_filter_count=48)"
   ]
  },
  {
   "cell_type": "code",
   "execution_count": 7,
   "metadata": {},
   "outputs": [],
   "source": [
    "\n",
    "train_model = training_slim.SlimTrainingModel(low_level_extractor, encoder, pos_decoder, pose_decoder)"
   ]
  },
  {
   "cell_type": "code",
   "execution_count": 8,
   "metadata": {},
   "outputs": [],
   "source": [
    "dist_strat = tf.distribute.OneDeviceStrategy(device=\"/gpu:0\")"
   ]
  },
  {
   "cell_type": "code",
   "execution_count": 9,
   "metadata": {},
   "outputs": [],
   "source": [
    "def get_train_model():\n",
    "        return train_model\n",
    "\n",
    "def loss_pre(loss):\n",
    "    detection_loss, estimator_loss = loss\n",
    "    loss_xy, loss_z = estimator_loss\n",
    "    return tf.reduce_sum(detection_loss) + tf.reduce_sum(loss_xy) + tf.reduce_sum(loss_z)\n",
    "\n",
    "def finish_training(train_model, loss, step):\n",
    "    print(train_model.count_params())\n",
    "\n",
    "def batching(dataset, batch_size):\n",
    "    batched_ds = dataset.batch(batch_size)\n",
    "\n",
    "    def unragg(img, pos_stuff, pose_stuff):\n",
    "        roi_indexes, roi_pose = pose_stuff\n",
    "\n",
    "        def unragg_indexes(indexes, row_length):\n",
    "            new_indexes = np.empty([indexes.shape[0], indexes.shape[1]+1], dtype=np.int32)\n",
    "            new_indexes[:,1:] = indexes\n",
    "            i = 0\n",
    "            b = 0\n",
    "            for length in row_length[1]:\n",
    "                index = indexes[i:int(i+length)]\n",
    "                new_indexes[i:int(i+length),0] = b\n",
    "                i += length\n",
    "                b += 1\n",
    "                \n",
    "            return new_indexes\n",
    "\n",
    "        roi_indexes_flat = tf.numpy_function(unragg_indexes, [roi_indexes.flat_values, roi_indexes.nested_row_lengths()], Tout=roi_indexes.dtype)\n",
    "\n",
    "        roi_pose_flat =  roi_pose.flat_values\n",
    "\n",
    "        return img, pos_stuff, (roi_indexes_flat, roi_pose_flat)\n",
    "\n",
    "    unragged_ds = batched_ds.map(unragg)\n",
    "    return unragged_ds"
   ]
  },
  {
   "cell_type": "code",
   "execution_count": 10,
   "metadata": {},
   "outputs": [],
   "source": [
    "step_callbacks = train.standart_callbacks()\n",
    "step_callbacks[2] = finish_training\n",
    "#step_callbacks[\"train_init\"] = init_model\n",
    "step_callbacks[\"batching\"] = batching\n",
    "#step_callbacks[\"input_preprocessing\"] = input_preprocessing \n",
    "step_callbacks[\"loss_pre\"] = loss_pre"
   ]
  },
  {
   "cell_type": "code",
   "execution_count": 11,
   "metadata": {
    "tags": [
     "outputPrepend",
     "outputPrepend",
     "outputPrepend",
     "outputPrepend",
     "outputPrepend",
     "outputPrepend",
     "outputPrepend",
     "outputPrepend",
     "outputPrepend",
     "outputPrepend",
     "outputPrepend",
     "outputPrepend",
     "outputPrepend",
     "outputPrepend",
     "outputPrepend",
     "outputPrepend",
     "outputPrepend",
     "outputPrepend",
     "outputPrepend",
     "outputPrepend",
     "outputPrepend",
     "outputPrepend",
     "outputPrepend",
     "outputPrepend",
     "outputPrepend",
     "outputPrepend",
     "outputPrepend",
     "outputPrepend",
     "outputPrepend"
    ]
   },
   "outputs": [
    {
     "output_type": "stream",
     "name": "stdout",
     "text": "orShape([4, None, None, 120])]\nDenseModule (4, None, None, 256)\nDenseBlock (4, None, None, 24)\nBnDoConfReluConfRelu (4, None, None, 24)\nDenseBlock (4, None, None, 72)\nBnDoConfReluConfRelu (4, None, None, 72)\nScale (4, None, None, 120)\nScaledShAReD (TensorShape([4, None, None, 64]), TensorShape([4, None, None, 120]))\nScale (4, None, None, 64)\nResAttention [TensorShape([4, None, None, 64]), TensorShape([4, None, None, 120])]\nAttention [TensorShape([4, None, None, 64]), TensorShape([4, None, None, 120])]\nDenseModule (4, None, None, 256)\nDenseBlock (4, None, None, 24)\nBnDoConfReluConfRelu (4, None, None, 24)\nDenseBlock (4, None, None, 72)\nBnDoConfReluConfRelu (4, None, None, 72)\nScale (4, None, None, 120)\nScale (4, None, None, 120)\nScaledShAReD [TensorShape([4, None, None, 64]), TensorShape([4, None, None, 120])]\nScale (4, None, None, 64)\nResAttention [TensorShape([4, None, None, 64]), TensorShape([4, None, None, 120])]\nAttention [TensorShape([4, None, None, 64]), TensorShape([4, None, None, 120])]\nDenseModule (4, None, None, 256)\nDenseBlock (4, None, None, 24)\nBnDoConfReluConfRelu (4, None, None, 24)\nDenseBlock (4, None, None, 72)\nBnDoConfReluConfRelu (4, None, None, 72)\nScale (4, None, None, 120)\nScaledShAReD (TensorShape([4, None, None, 64]), TensorShape([4, None, None, 120]))\nScale (4, None, None, 64)\nResAttention [TensorShape([4, None, None, 64]), TensorShape([4, None, None, 120])]\nAttention [TensorShape([4, None, None, 64]), TensorShape([4, None, None, 120])]\nDenseModule (4, None, None, 256)\nDenseBlock (4, None, None, 24)\nBnDoConfReluConfRelu (4, None, None, 24)\nDenseBlock (4, None, None, 72)\nBnDoConfReluConfRelu (4, None, None, 72)\nScale (4, None, None, 120)\nScale (4, None, None, 120)\nScaledShAReD [TensorShape([4, None, None, 64]), TensorShape([4, None, None, 120])]\nScale (4, None, None, 64)\nResAttention [TensorShape([4, None, None, 64]), TensorShape([4, None, None, 120])]\nAttention [TensorShape([4, None, None, 64]), TensorShape([4, None, None, 120])]\nDenseModule (4, None, None, 256)\nDenseBlock (4, None, None, 24)\nBnDoConfReluConfRelu (4, None, None, 24)\nDenseBlock (4, None, None, 72)\nBnDoConfReluConfRelu (4, None, None, 72)\nScale (4, None, None, 120)\nScaledShAReD (TensorShape([4, None, None, 64]), TensorShape([4, None, None, 120]))\nScale (4, None, None, 64)\nResAttention [TensorShape([4, None, None, 64]), TensorShape([4, None, None, 120])]\nAttention [TensorShape([4, None, None, 64]), TensorShape([4, None, None, 120])]\nDenseModule (4, None, None, 256)\nDenseBlock (4, None, None, 24)\nBnDoConfReluConfRelu (4, None, None, 24)\nDenseBlock (4, None, None, 72)\nBnDoConfReluConfRelu (4, None, None, 72)\nScale (4, None, None, 120)\nScale (4, None, None, 120)\nScaledShAReD [TensorShape([4, None, None, 64]), TensorShape([4, None, None, 240])]\nScale (4, None, None, 64)\nResAttention [TensorShape([4, None, None, 64]), TensorShape([4, None, None, 240])]\nAttention [TensorShape([4, None, None, 64]), TensorShape([4, None, None, 240])]\nDenseModule (4, None, None, 256)\nDenseBlock (4, None, None, 24)\nBnDoConfReluConfRelu (4, None, None, 24)\nDenseBlock (4, None, None, 72)\nBnDoConfReluConfRelu (4, None, None, 72)\nScale (4, None, None, 120)\nScaledShAReD (TensorShape([4, None, None, 64]), TensorShape([4, None, None, 120]))\nScale (4, None, None, 64)\nResAttention [TensorShape([4, None, None, 64]), TensorShape([4, None, None, 120])]\nAttention [TensorShape([4, None, None, 64]), TensorShape([4, None, None, 120])]\nDenseModule (4, None, None, 256)\nDenseBlock (4, None, None, 24)\nBnDoConfReluConfRelu (4, None, None, 24)\nDenseBlock (4, None, None, 72)\nBnDoConfReluConfRelu (4, None, None, 72)\nScale (4, None, None, 120)\nScale (4, None, None, 120)\nScaledShAReD [TensorShape([4, None, None, 64]), TensorShape([4, None, None, 240])]\nScale (4, None, None, 64)\nResAttention [TensorShape([4, None, None, 64]), TensorShape([4, None, None, 240])]\nAttention [TensorShape([4, None, None, 64]), TensorShape([4, None, None, 240])]\nDenseModule (4, None, None, 256)\nDenseBlock (4, None, None, 24)\nBnDoConfReluConfRelu (4, None, None, 24)\nDenseBlock (4, None, None, 72)\nBnDoConfReluConfRelu (4, None, None, 72)\nScale (4, None, None, 120)\nScaledShAReD (TensorShape([4, None, None, 64]), TensorShape([4, None, None, 120]))\nScale (4, None, None, 64)\nResAttention [TensorShape([4, None, None, 64]), TensorShape([4, None, None, 120])]\nAttention [TensorShape([4, None, None, 64]), TensorShape([4, None, None, 120])]\nDenseModule (4, None, None, 256)\nDenseBlock (4, None, None, 24)\nBnDoConfReluConfRelu (4, None, None, 24)\nDenseBlock (4, None, None, 72)\nBnDoConfReluConfRelu (4, None, None, 72)\nScale (4, None, None, 120)\nScale (4, None, None, 120)\nShAReD [TensorShape([4, None, None, 64]), TensorShape([4, None, None, 240])]\nResAttention [TensorShape([4, None, None, 64]), TensorShape([4, None, None, 240])]\nAttention [TensorShape([4, None, None, 64]), TensorShape([4, None, None, 240])]\nShReD [TensorShape([4, None, None, 64]), TensorShape([4, None, None, 192])]\nDenseModule (4, None, None, 256)\nDenseBlock (4, None, None, 24)\nBnDoConfReluConfRelu (4, None, None, 24)\nDenseBlock (4, None, None, 72)\nBnDoConfReluConfRelu (4, None, None, 72)\nScale (4, None, None, 64)\nScale (4, None, None, 120)\nShAReDHourGlass [TensorShape([4, None, None, 128]), TensorShape([4, None, None, 120])]\nShAReD [TensorShape([4, None, None, 128]), TensorShape([4, None, None, 120])]\nResAttention [TensorShape([4, None, None, 128]), TensorShape([4, None, None, 120])]\nAttention [TensorShape([4, None, None, 128]), TensorShape([4, None, None, 120])]\nShReD [TensorShape([4, None, None, 128]), TensorShape([4, None, None, 384])]\nDenseModule (4, None, None, 512)\nDenseBlock (4, None, None, 24)\nBnDoConfReluConfRelu (4, None, None, 24)\nDenseBlock (4, None, None, 72)\nBnDoConfReluConfRelu (4, None, None, 72)\nShAReD (TensorShape([4, None, None, 128]), TensorShape([4, None, None, 120]))\nResAttention (TensorShape([4, None, None, 128]), TensorShape([4, None, None, 120]))\nAttention (TensorShape([4, None, None, 128]), TensorShape([4, None, None, 120]))\nShReD [TensorShape([4, None, None, 128]), TensorShape([4, None, None, 384])]\nDenseModule (4, None, None, 512)\nDenseBlock (4, None, None, 24)\nBnDoConfReluConfRelu (4, None, None, 24)\nDenseBlock (4, None, None, 72)\nBnDoConfReluConfRelu (4, None, None, 72)\nScale (4, None, None, 120)\nScaledShAReD [TensorShape([4, None, None, 128]), TensorShape([4, None, None, 120])]\nScale (4, None, None, 128)\nResAttention [TensorShape([4, None, None, 128]), TensorShape([4, None, None, 120])]\nAttention [TensorShape([4, None, None, 128]), TensorShape([4, None, None, 120])]\nDenseModule (4, None, None, 512)\nDenseBlock (4, None, None, 24)\nBnDoConfReluConfRelu (4, None, None, 24)\nDenseBlock (4, None, None, 72)\nBnDoConfReluConfRelu (4, None, None, 72)\nScale (4, None, None, 120)\nScaledShAReD (TensorShape([4, None, None, 128]), TensorShape([4, None, None, 120]))\nScale (4, None, None, 128)\nResAttention [TensorShape([4, None, None, 128]), TensorShape([4, None, None, 120])]\nAttention [TensorShape([4, None, None, 128]), TensorShape([4, None, None, 120])]\nDenseModule (4, None, None, 512)\nDenseBlock (4, None, None, 24)\nBnDoConfReluConfRelu (4, None, None, 24)\nDenseBlock (4, None, None, 72)\nBnDoConfReluConfRelu (4, None, None, 72)\nScale (4, None, None, 120)\nScale (4, None, None, 120)\nScaledShAReD [TensorShape([4, None, None, 128]), TensorShape([4, None, None, 120])]\nScale (4, None, None, 128)\nResAttention [TensorShape([4, None, None, 128]), TensorShape([4, None, None, 120])]\nAttention [TensorShape([4, None, None, 128]), TensorShape([4, None, None, 120])]\nDenseModule (4, None, None, 512)\nDenseBlock (4, None, None, 24)\nBnDoConfReluConfRelu (4, None, None, 24)\nDenseBlock (4, None, None, 72)\nBnDoConfReluConfRelu (4, None, None, 72)\nScale (4, None, None, 120)\nScaledShAReD (TensorShape([4, None, None, 128]), TensorShape([4, None, None, 120]))\nScale (4, None, None, 128)\nResAttention [TensorShape([4, None, None, 128]), TensorShape([4, None, None, 120])]\nAttention [TensorShape([4, None, None, 128]), TensorShape([4, None, None, 120])]\nDenseModule (4, None, None, 512)\nDenseBlock (4, None, None, 24)\nBnDoConfReluConfRelu (4, None, None, 24)\nDenseBlock (4, None, None, 72)\nBnDoConfReluConfRelu (4, None, None, 72)\nScale (4, None, None, 120)\nScale (4, None, None, 120)\nScaledShAReD [TensorShape([4, None, None, 128]), TensorShape([4, None, None, 120])]\nScale (4, None, None, 128)\nResAttention [TensorShape([4, None, None, 128]), TensorShape([4, None, None, 120])]\nAttention [TensorShape([4, None, None, 128]), TensorShape([4, None, None, 120])]\nDenseModule (4, None, None, 512)\nDenseBlock (4, None, None, 24)\nBnDoConfReluConfRelu (4, None, None, 24)\nDenseBlock (4, None, None, 72)\nBnDoConfReluConfRelu (4, None, None, 72)\nScale (4, None, None, 120)\nScaledShAReD (TensorShape([4, None, None, 128]), TensorShape([4, None, None, 120]))\nScale (4, None, None, 128)\nResAttention [TensorShape([4, None, None, 128]), TensorShape([4, None, None, 120])]\nAttention [TensorShape([4, None, None, 128]), TensorShape([4, None, None, 120])]\nDenseModule (4, None, None, 512)\nDenseBlock (4, None, None, 24)\nBnDoConfReluConfRelu (4, None, None, 24)\nDenseBlock (4, None, None, 72)\nBnDoConfReluConfRelu (4, None, None, 72)\nScale (4, None, None, 120)\nScale (4, None, None, 120)\nScaledShAReD [TensorShape([4, None, None, 128]), TensorShape([4, None, None, 240])]\nScale (4, None, None, 128)\nResAttention [TensorShape([4, None, None, 128]), TensorShape([4, None, None, 240])]\nAttention [TensorShape([4, None, None, 128]), TensorShape([4, None, None, 240])]\nDenseModule (4, None, None, 512)\nDenseBlock (4, None, None, 24)\nBnDoConfReluConfRelu (4, None, None, 24)\nDenseBlock (4, None, None, 72)\nBnDoConfReluConfRelu (4, None, None, 72)\nScale (4, None, None, 120)\nScaledShAReD (TensorShape([4, None, None, 128]), TensorShape([4, None, None, 120]))\nScale (4, None, None, 128)\nResAttention [TensorShape([4, None, None, 128]), TensorShape([4, None, None, 120])]\nAttention [TensorShape([4, None, None, 128]), TensorShape([4, None, None, 120])]\nDenseModule (4, None, None, 512)\nDenseBlock (4, None, None, 24)\nBnDoConfReluConfRelu (4, None, None, 24)\nDenseBlock (4, None, None, 72)\nBnDoConfReluConfRelu (4, None, None, 72)\nScale (4, None, None, 120)\nScale (4, None, None, 120)\nScaledShAReD [TensorShape([4, None, None, 128]), TensorShape([4, None, None, 240])]\nScale (4, None, None, 128)\nResAttention [TensorShape([4, None, None, 128]), TensorShape([4, None, None, 240])]\nAttention [TensorShape([4, None, None, 128]), TensorShape([4, None, None, 240])]\nDenseModule (4, None, None, 512)\nDenseBlock (4, None, None, 24)\nBnDoConfReluConfRelu (4, None, None, 24)\nDenseBlock (4, None, None, 72)\nBnDoConfReluConfRelu (4, None, None, 72)\nScale (4, None, None, 120)\nScaledShAReD (TensorShape([4, None, None, 128]), TensorShape([4, None, None, 120]))\nScale (4, None, None, 128)\nResAttention [TensorShape([4, None, None, 128]), TensorShape([4, None, None, 120])]\nAttention [TensorShape([4, None, None, 128]), TensorShape([4, None, None, 120])]\nDenseModule (4, None, None, 512)\nDenseBlock (4, None, None, 24)\nBnDoConfReluConfRelu (4, None, None, 24)\nDenseBlock (4, None, None, 72)\nBnDoConfReluConfRelu (4, None, None, 72)\nScale (4, None, None, 120)\nScale (4, None, None, 120)\nShAReD [TensorShape([4, None, None, 128]), TensorShape([4, None, None, 240])]\nResAttention [TensorShape([4, None, None, 128]), TensorShape([4, None, None, 240])]\nAttention [TensorShape([4, None, None, 128]), TensorShape([4, None, None, 240])]\nShReD [TensorShape([4, None, None, 128]), TensorShape([4, None, None, 384])]\nDenseModule (4, None, None, 512)\nDenseBlock (4, None, None, 24)\nBnDoConfReluConfRelu (4, None, None, 24)\nDenseBlock (4, None, None, 72)\nBnDoConfReluConfRelu (4, None, None, 72)\nScale (4, None, None, 128)\nScale (4, None, None, 120)\nPosDecoder [TensorShape([4, None, None, 256]), TensorShape([4, None, None, 120])]\nShAReDHourGlass [TensorShape([4, None, None, 256]), TensorShape([4, None, None, 120])]\nShAReD [TensorShape([4, None, None, 256]), TensorShape([4, None, None, 120])]\nResAttention [TensorShape([4, None, None, 256]), TensorShape([4, None, None, 120])]\nAttention [TensorShape([4, None, None, 256]), TensorShape([4, None, None, 120])]\nShReD [TensorShape([4, None, None, 256]), TensorShape([4, None, None, 768])]\nDenseModule (4, None, None, 1024)\nDenseBlock (4, None, None, 24)\nBnDoConfReluConfRelu (4, None, None, 24)\nDenseBlock (4, None, None, 72)\nBnDoConfReluConfRelu (4, None, None, 72)\nShAReD (TensorShape([4, None, None, 256]), TensorShape([4, None, None, 120]))\nResAttention (TensorShape([4, None, None, 256]), TensorShape([4, None, None, 120]))\nAttention (TensorShape([4, None, None, 256]), TensorShape([4, None, None, 120]))\nShReD [TensorShape([4, None, None, 256]), TensorShape([4, None, None, 768])]\nDenseModule (4, None, None, 1024)\nDenseBlock (4, None, None, 24)\nBnDoConfReluConfRelu (4, None, None, 24)\nDenseBlock (4, None, None, 72)\nBnDoConfReluConfRelu (4, None, None, 72)\nScale (4, None, None, 120)\nScaledShAReD [TensorShape([4, None, None, 256]), TensorShape([4, None, None, 120])]\nScale (4, None, None, 256)\nResAttention [TensorShape([4, None, None, 256]), TensorShape([4, None, None, 120])]\nAttention [TensorShape([4, None, None, 256]), TensorShape([4, None, None, 120])]\nDenseModule (4, None, None, 1024)\nDenseBlock (4, None, None, 24)\nBnDoConfReluConfRelu (4, None, None, 24)\nDenseBlock (4, None, None, 72)\nBnDoConfReluConfRelu (4, None, None, 72)\nScale (4, None, None, 120)\nScaledShAReD (TensorShape([4, None, None, 256]), TensorShape([4, None, None, 120]))\nScale (4, None, None, 256)\nResAttention [TensorShape([4, None, None, 256]), TensorShape([4, None, None, 120])]\nAttention [TensorShape([4, None, None, 256]), TensorShape([4, None, None, 120])]\nDenseModule (4, None, None, 1024)\nDenseBlock (4, None, None, 24)\nBnDoConfReluConfRelu (4, None, None, 24)\nDenseBlock (4, None, None, 72)\nBnDoConfReluConfRelu (4, None, None, 72)\nScale (4, None, None, 120)\nScale (4, None, None, 120)\nScaledShAReD [TensorShape([4, None, None, 256]), TensorShape([4, None, None, 120])]\nScale (4, None, None, 256)\nResAttention [TensorShape([4, None, None, 256]), TensorShape([4, None, None, 120])]\nAttention [TensorShape([4, None, None, 256]), TensorShape([4, None, None, 120])]\nDenseModule (4, None, None, 1024)\nDenseBlock (4, None, None, 24)\nBnDoConfReluConfRelu (4, None, None, 24)\nDenseBlock (4, None, None, 72)\nBnDoConfReluConfRelu (4, None, None, 72)\nScale (4, None, None, 120)\nScaledShAReD (TensorShape([4, None, None, 256]), TensorShape([4, None, None, 120]))\nScale (4, None, None, 256)\nResAttention [TensorShape([4, None, None, 256]), TensorShape([4, None, None, 120])]\nAttention [TensorShape([4, None, None, 256]), TensorShape([4, None, None, 120])]\nDenseModule (4, None, None, 1024)\nDenseBlock (4, None, None, 24)\nBnDoConfReluConfRelu (4, None, None, 24)\nDenseBlock (4, None, None, 72)\nBnDoConfReluConfRelu (4, None, None, 72)\nScale (4, None, None, 120)\nScale (4, None, None, 120)\nScaledShAReD [TensorShape([4, None, None, 256]), TensorShape([4, None, None, 120])]\nScale (4, None, None, 256)\nResAttention [TensorShape([4, None, None, 256]), TensorShape([4, None, None, 120])]\nAttention [TensorShape([4, None, None, 256]), TensorShape([4, None, None, 120])]\nDenseModule (4, None, None, 1024)\nDenseBlock (4, None, None, 24)\nBnDoConfReluConfRelu (4, None, None, 24)\nDenseBlock (4, None, None, 72)\nBnDoConfReluConfRelu (4, None, None, 72)\nScale (4, None, None, 120)\nScaledShAReD (TensorShape([4, None, None, 256]), TensorShape([4, None, None, 120]))\nScale (4, None, None, 256)\nResAttention [TensorShape([4, None, None, 256]), TensorShape([4, None, None, 120])]\nAttention [TensorShape([4, None, None, 256]), TensorShape([4, None, None, 120])]\nDenseModule (4, None, None, 1024)\nDenseBlock (4, None, None, 24)\nBnDoConfReluConfRelu (4, None, None, 24)\nDenseBlock (4, None, None, 72)\nBnDoConfReluConfRelu (4, None, None, 72)\nScale (4, None, None, 120)\nScale (4, None, None, 120)\nScaledShAReD [TensorShape([4, None, None, 256]), TensorShape([4, None, None, 240])]\nScale (4, None, None, 256)\nResAttention [TensorShape([4, None, None, 256]), TensorShape([4, None, None, 240])]\nAttention [TensorShape([4, None, None, 256]), TensorShape([4, None, None, 240])]\nDenseModule (4, None, None, 1024)\nDenseBlock (4, None, None, 24)\nBnDoConfReluConfRelu (4, None, None, 24)\nDenseBlock (4, None, None, 72)\nBnDoConfReluConfRelu (4, None, None, 72)\nScale (4, None, None, 120)\nScaledShAReD (TensorShape([4, None, None, 256]), TensorShape([4, None, None, 120]))\nScale (4, None, None, 256)\nResAttention [TensorShape([4, None, None, 256]), TensorShape([4, None, None, 120])]\nAttention [TensorShape([4, None, None, 256]), TensorShape([4, None, None, 120])]\nDenseModule (4, None, None, 1024)\nDenseBlock (4, None, None, 24)\nBnDoConfReluConfRelu (4, None, None, 24)\nDenseBlock (4, None, None, 72)\nBnDoConfReluConfRelu (4, None, None, 72)\nScale (4, None, None, 120)\nScale (4, None, None, 120)\nScaledShAReD [TensorShape([4, None, None, 256]), TensorShape([4, None, None, 240])]\nScale (4, None, None, 256)\nResAttention [TensorShape([4, None, None, 256]), TensorShape([4, None, None, 240])]\nAttention [TensorShape([4, None, None, 256]), TensorShape([4, None, None, 240])]\nDenseModule (4, None, None, 1024)\nDenseBlock (4, None, None, 24)\nBnDoConfReluConfRelu (4, None, None, 24)\nDenseBlock (4, None, None, 72)\nBnDoConfReluConfRelu (4, None, None, 72)\nScale (4, None, None, 120)\nScaledShAReD (TensorShape([4, None, None, 256]), TensorShape([4, None, None, 120]))\nScale (4, None, None, 256)\nResAttention [TensorShape([4, None, None, 256]), TensorShape([4, None, None, 120])]\nAttention [TensorShape([4, None, None, 256]), TensorShape([4, None, None, 120])]\nDenseModule (4, None, None, 1024)\nDenseBlock (4, None, None, 24)\nBnDoConfReluConfRelu (4, None, None, 24)\nDenseBlock (4, None, None, 72)\nBnDoConfReluConfRelu (4, None, None, 72)\nScale (4, None, None, 120)\nScale (4, None, None, 120)\nShAReD [TensorShape([4, None, None, 256]), TensorShape([4, None, None, 240])]\nResAttention [TensorShape([4, None, None, 256]), TensorShape([4, None, None, 240])]\nAttention [TensorShape([4, None, None, 256]), TensorShape([4, None, None, 240])]\nShReD [TensorShape([4, None, None, 256]), TensorShape([4, None, None, 768])]\nDenseModule (4, None, None, 1024)\nDenseBlock (4, None, None, 24)\nBnDoConfReluConfRelu (4, None, None, 24)\nDenseBlock (4, None, None, 72)\nBnDoConfReluConfRelu (4, None, None, 72)\nScale (4, None, None, 256)\nScale (4, None, None, 120)\nSelfShAReD [TensorShape([4, None, None, 256]), TensorShape([4, None, None, 120])]\nShAReD [TensorShape([4, None, None, 256]), TensorShape([4, None, None, 120])]\nResAttention [TensorShape([4, None, None, 256]), TensorShape([4, None, None, 120])]\nAttention [TensorShape([4, None, None, 256]), TensorShape([4, None, None, 120])]\nShReD [TensorShape([4, None, None, 256]), TensorShape([4, None, None, 768])]\nDenseModule (4, None, None, 1024)\nDenseBlock (4, None, None, 24)\nBnDoConfReluConfRelu (4, None, None, 24)\nDenseBlock (4, None, None, 72)\nBnDoConfReluConfRelu (4, None, None, 72)\nAttention [TensorShape([4, None, None, 120]), TensorShape([4, None, None, 120])]\nShAReD [TensorShape([4, None, None, 256]), TensorShape([4, None, None, 240])]\nResAttention [TensorShape([4, None, None, 256]), TensorShape([4, None, None, 240])]\nAttention [TensorShape([4, None, None, 256]), TensorShape([4, None, None, 240])]\nShReD [TensorShape([4, None, None, 256]), TensorShape([4, None, None, 768])]\nDenseModule (4, None, None, 1024)\nDenseBlock (4, None, None, 24)\nBnDoConfReluConfRelu (4, None, None, 24)\nDenseBlock (4, None, None, 72)\nBnDoConfReluConfRelu (4, None, None, 72)\nDetectionLoss [TensorShape([4, None, None, 2]), (TensorShape([4, 373, 663, 2]), TensorShape([4, 373, 663, 2]))]\nRoi_Extractor [TensorShape([4, None, None, 248]), TensorShape([12, 3])]\nTensor(\"Roi_Extractor/map/TensorArrayV2Stack/TensorListStack:0\", shape=(12, 1, 31, 31, 248), dtype=float32)\nTensor(\"strided_slice:0\", shape=(12, 31, 31, 248), dtype=float32)\n"
    }
   ],
   "source": [
    "train.train(2, get_train_model, train_ds, dist_strat, batch_size = 4, learning_rate=0.001, step_callbacks = step_callbacks)\n",
    ""
   ]
  },
  {
   "cell_type": "code",
   "execution_count": null,
   "metadata": {},
   "outputs": [],
   "source": []
  }
 ]
}